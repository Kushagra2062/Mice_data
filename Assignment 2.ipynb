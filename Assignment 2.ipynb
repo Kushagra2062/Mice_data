{
 "cells": [
  {
   "cell_type": "code",
   "execution_count": 1,
   "metadata": {},
   "outputs": [],
   "source": [
    "import pandas as pd\n",
    "import numpy as np\n",
    "pd.options.display.max_seq_items = 2000\n",
    "import matplotlib.pyplot as plt\n",
    "import seaborn as sns"
   ]
  },
  {
   "cell_type": "code",
   "execution_count": 2,
   "metadata": {},
   "outputs": [],
   "source": [
    "mice_data=pd.read_csv(\"D:/RMIT Semester 2/Practical Data Science with Python/Assignment2 Practical DS/Assignment2/Mice_data.csv\")"
   ]
  },
  {
   "cell_type": "code",
   "execution_count": 3,
   "metadata": {},
   "outputs": [
    {
     "data": {
      "text/html": [
       "<div>\n",
       "<style scoped>\n",
       "    .dataframe tbody tr th:only-of-type {\n",
       "        vertical-align: middle;\n",
       "    }\n",
       "\n",
       "    .dataframe tbody tr th {\n",
       "        vertical-align: top;\n",
       "    }\n",
       "\n",
       "    .dataframe thead th {\n",
       "        text-align: right;\n",
       "    }\n",
       "</style>\n",
       "<table border=\"1\" class=\"dataframe\">\n",
       "  <thead>\n",
       "    <tr style=\"text-align: right;\">\n",
       "      <th></th>\n",
       "      <th>MouseID</th>\n",
       "      <th>DYRK1A_N</th>\n",
       "      <th>ITSN1_N</th>\n",
       "      <th>BDNF_N</th>\n",
       "      <th>NR1_N</th>\n",
       "      <th>NR2A_N</th>\n",
       "      <th>pAKT_N</th>\n",
       "      <th>pBRAF_N</th>\n",
       "      <th>pCAMKII_N</th>\n",
       "      <th>pCREB_N</th>\n",
       "      <th>...</th>\n",
       "      <th>pCFOS_N</th>\n",
       "      <th>SYP_N</th>\n",
       "      <th>H3AcK18_N</th>\n",
       "      <th>EGR1_N</th>\n",
       "      <th>H3MeK4_N</th>\n",
       "      <th>CaNA_N</th>\n",
       "      <th>Genotype</th>\n",
       "      <th>Treatment</th>\n",
       "      <th>Behavior</th>\n",
       "      <th>class</th>\n",
       "    </tr>\n",
       "  </thead>\n",
       "  <tbody>\n",
       "    <tr>\n",
       "      <th>0</th>\n",
       "      <td>309_1</td>\n",
       "      <td>0.503644</td>\n",
       "      <td>0.747193</td>\n",
       "      <td>0.430175</td>\n",
       "      <td>2.816329</td>\n",
       "      <td>5.990152</td>\n",
       "      <td>0.218830</td>\n",
       "      <td>0.177565</td>\n",
       "      <td>2.373744</td>\n",
       "      <td>0.232224</td>\n",
       "      <td>...</td>\n",
       "      <td>0.108336</td>\n",
       "      <td>0.427099</td>\n",
       "      <td>0.114783</td>\n",
       "      <td>0.131790</td>\n",
       "      <td>0.128186</td>\n",
       "      <td>1.675652</td>\n",
       "      <td>Control</td>\n",
       "      <td>Memantine</td>\n",
       "      <td>C/S</td>\n",
       "      <td>c-CS-m</td>\n",
       "    </tr>\n",
       "    <tr>\n",
       "      <th>1</th>\n",
       "      <td>309_2</td>\n",
       "      <td>0.514617</td>\n",
       "      <td>0.689064</td>\n",
       "      <td>0.411770</td>\n",
       "      <td>2.789514</td>\n",
       "      <td>5.685038</td>\n",
       "      <td>0.211636</td>\n",
       "      <td>0.172817</td>\n",
       "      <td>2.292150</td>\n",
       "      <td>0.226972</td>\n",
       "      <td>...</td>\n",
       "      <td>0.104315</td>\n",
       "      <td>0.441581</td>\n",
       "      <td>0.111974</td>\n",
       "      <td>0.135103</td>\n",
       "      <td>0.131119</td>\n",
       "      <td>1.743610</td>\n",
       "      <td>Control</td>\n",
       "      <td>Memantine</td>\n",
       "      <td>C/S</td>\n",
       "      <td>c-CS-m</td>\n",
       "    </tr>\n",
       "    <tr>\n",
       "      <th>2</th>\n",
       "      <td>309_3</td>\n",
       "      <td>0.509183</td>\n",
       "      <td>0.730247</td>\n",
       "      <td>0.418309</td>\n",
       "      <td>2.687201</td>\n",
       "      <td>5.622059</td>\n",
       "      <td>0.209011</td>\n",
       "      <td>0.175722</td>\n",
       "      <td>2.283337</td>\n",
       "      <td>0.230247</td>\n",
       "      <td>...</td>\n",
       "      <td>0.106219</td>\n",
       "      <td>0.435777</td>\n",
       "      <td>0.111883</td>\n",
       "      <td>0.133362</td>\n",
       "      <td>0.127431</td>\n",
       "      <td>1.926427</td>\n",
       "      <td>Control</td>\n",
       "      <td>Memantine</td>\n",
       "      <td>C/S</td>\n",
       "      <td>c-CS-m</td>\n",
       "    </tr>\n",
       "    <tr>\n",
       "      <th>3</th>\n",
       "      <td>309_4</td>\n",
       "      <td>0.442107</td>\n",
       "      <td>0.617076</td>\n",
       "      <td>0.358626</td>\n",
       "      <td>2.466947</td>\n",
       "      <td>4.979503</td>\n",
       "      <td>0.222886</td>\n",
       "      <td>0.176463</td>\n",
       "      <td>2.152301</td>\n",
       "      <td>0.207004</td>\n",
       "      <td>...</td>\n",
       "      <td>0.111262</td>\n",
       "      <td>0.391691</td>\n",
       "      <td>0.130405</td>\n",
       "      <td>0.147444</td>\n",
       "      <td>0.146901</td>\n",
       "      <td>1.700563</td>\n",
       "      <td>Control</td>\n",
       "      <td>Memantine</td>\n",
       "      <td>C/S</td>\n",
       "      <td>c-CS-m</td>\n",
       "    </tr>\n",
       "    <tr>\n",
       "      <th>4</th>\n",
       "      <td>309_5</td>\n",
       "      <td>0.434940</td>\n",
       "      <td>0.617430</td>\n",
       "      <td>0.358802</td>\n",
       "      <td>2.365785</td>\n",
       "      <td>4.718679</td>\n",
       "      <td>0.213106</td>\n",
       "      <td>0.173627</td>\n",
       "      <td>2.134014</td>\n",
       "      <td>0.192158</td>\n",
       "      <td>...</td>\n",
       "      <td>0.110694</td>\n",
       "      <td>0.434154</td>\n",
       "      <td>0.118481</td>\n",
       "      <td>0.140314</td>\n",
       "      <td>0.148380</td>\n",
       "      <td>1.839730</td>\n",
       "      <td>Control</td>\n",
       "      <td>Memantine</td>\n",
       "      <td>C/S</td>\n",
       "      <td>c-CS-m</td>\n",
       "    </tr>\n",
       "  </tbody>\n",
       "</table>\n",
       "<p>5 rows × 82 columns</p>\n",
       "</div>"
      ],
      "text/plain": [
       "  MouseID  DYRK1A_N   ITSN1_N    BDNF_N     NR1_N    NR2A_N    pAKT_N  \\\n",
       "0   309_1  0.503644  0.747193  0.430175  2.816329  5.990152  0.218830   \n",
       "1   309_2  0.514617  0.689064  0.411770  2.789514  5.685038  0.211636   \n",
       "2   309_3  0.509183  0.730247  0.418309  2.687201  5.622059  0.209011   \n",
       "3   309_4  0.442107  0.617076  0.358626  2.466947  4.979503  0.222886   \n",
       "4   309_5  0.434940  0.617430  0.358802  2.365785  4.718679  0.213106   \n",
       "\n",
       "    pBRAF_N  pCAMKII_N   pCREB_N  ...   pCFOS_N     SYP_N  H3AcK18_N  \\\n",
       "0  0.177565   2.373744  0.232224  ...  0.108336  0.427099   0.114783   \n",
       "1  0.172817   2.292150  0.226972  ...  0.104315  0.441581   0.111974   \n",
       "2  0.175722   2.283337  0.230247  ...  0.106219  0.435777   0.111883   \n",
       "3  0.176463   2.152301  0.207004  ...  0.111262  0.391691   0.130405   \n",
       "4  0.173627   2.134014  0.192158  ...  0.110694  0.434154   0.118481   \n",
       "\n",
       "     EGR1_N  H3MeK4_N    CaNA_N  Genotype  Treatment  Behavior   class  \n",
       "0  0.131790  0.128186  1.675652   Control  Memantine       C/S  c-CS-m  \n",
       "1  0.135103  0.131119  1.743610   Control  Memantine       C/S  c-CS-m  \n",
       "2  0.133362  0.127431  1.926427   Control  Memantine       C/S  c-CS-m  \n",
       "3  0.147444  0.146901  1.700563   Control  Memantine       C/S  c-CS-m  \n",
       "4  0.140314  0.148380  1.839730   Control  Memantine       C/S  c-CS-m  \n",
       "\n",
       "[5 rows x 82 columns]"
      ]
     },
     "execution_count": 3,
     "metadata": {},
     "output_type": "execute_result"
    }
   ],
   "source": [
    "mice_data.head()"
   ]
  },
  {
   "cell_type": "code",
   "execution_count": 4,
   "metadata": {},
   "outputs": [
    {
     "name": "stdout",
     "output_type": "stream",
     "text": [
      "MouseID             object\n",
      "DYRK1A_N           float64\n",
      "ITSN1_N            float64\n",
      "BDNF_N             float64\n",
      "NR1_N              float64\n",
      "NR2A_N             float64\n",
      "pAKT_N             float64\n",
      "pBRAF_N            float64\n",
      "pCAMKII_N          float64\n",
      "pCREB_N            float64\n",
      "pELK_N             float64\n",
      "pERK_N             float64\n",
      "pJNK_N             float64\n",
      "PKCA_N             float64\n",
      "pMEK_N             float64\n",
      "pNR1_N             float64\n",
      "pNR2A_N            float64\n",
      "pNR2B_N            float64\n",
      "pPKCAB_N           float64\n",
      "pRSK_N             float64\n",
      "AKT_N              float64\n",
      "BRAF_N             float64\n",
      "CAMKII_N           float64\n",
      "CREB_N             float64\n",
      "ELK_N              float64\n",
      "ERK_N              float64\n",
      "GSK3B_N            float64\n",
      "JNK_N              float64\n",
      "MEK_N              float64\n",
      "TRKA_N             float64\n",
      "                    ...   \n",
      "RRP1_N             float64\n",
      "BAX_N              float64\n",
      "ARC_N              float64\n",
      "ERBB4_N            float64\n",
      "nNOS_N             float64\n",
      "Tau_N              float64\n",
      "GFAP_N             float64\n",
      "GluR3_N            float64\n",
      "GluR4_N            float64\n",
      "IL1B_N             float64\n",
      "P3525_N            float64\n",
      "pCASP9_N           float64\n",
      "PSD95_N            float64\n",
      "SNCA_N             float64\n",
      "Ubiquitin_N        float64\n",
      "pGSK3B_Tyr216_N    float64\n",
      "SHH_N              float64\n",
      "BAD_N              float64\n",
      "BCL2_N             float64\n",
      "pS6_N              float64\n",
      "pCFOS_N            float64\n",
      "SYP_N              float64\n",
      "H3AcK18_N          float64\n",
      "EGR1_N             float64\n",
      "H3MeK4_N           float64\n",
      "CaNA_N             float64\n",
      "Genotype            object\n",
      "Treatment           object\n",
      "Behavior            object\n",
      "class               object\n",
      "Length: 82, dtype: object\n"
     ]
    }
   ],
   "source": [
    "mice_data.shape\n",
    "print(mice_data.dtypes)"
   ]
  },
  {
   "cell_type": "markdown",
   "metadata": {},
   "source": [
    "### Here we are finding the total number of missing values in the row and how much percentage do they constitute by each row"
   ]
  },
  {
   "cell_type": "code",
   "execution_count": 5,
   "metadata": {},
   "outputs": [
    {
     "data": {
      "text/html": [
       "<div>\n",
       "<style scoped>\n",
       "    .dataframe tbody tr th:only-of-type {\n",
       "        vertical-align: middle;\n",
       "    }\n",
       "\n",
       "    .dataframe tbody tr th {\n",
       "        vertical-align: top;\n",
       "    }\n",
       "\n",
       "    .dataframe thead th {\n",
       "        text-align: right;\n",
       "    }\n",
       "</style>\n",
       "<table border=\"1\" class=\"dataframe\">\n",
       "  <thead>\n",
       "    <tr style=\"text-align: right;\">\n",
       "      <th></th>\n",
       "      <th>Total</th>\n",
       "      <th>Percent</th>\n",
       "    </tr>\n",
       "  </thead>\n",
       "  <tbody>\n",
       "    <tr>\n",
       "      <th>MouseID</th>\n",
       "      <td>0</td>\n",
       "      <td>0.000000</td>\n",
       "    </tr>\n",
       "    <tr>\n",
       "      <th>DYRK1A_N</th>\n",
       "      <td>3</td>\n",
       "      <td>0.277778</td>\n",
       "    </tr>\n",
       "    <tr>\n",
       "      <th>ITSN1_N</th>\n",
       "      <td>3</td>\n",
       "      <td>0.277778</td>\n",
       "    </tr>\n",
       "    <tr>\n",
       "      <th>BDNF_N</th>\n",
       "      <td>3</td>\n",
       "      <td>0.277778</td>\n",
       "    </tr>\n",
       "    <tr>\n",
       "      <th>NR1_N</th>\n",
       "      <td>3</td>\n",
       "      <td>0.277778</td>\n",
       "    </tr>\n",
       "    <tr>\n",
       "      <th>NR2A_N</th>\n",
       "      <td>3</td>\n",
       "      <td>0.277778</td>\n",
       "    </tr>\n",
       "    <tr>\n",
       "      <th>pAKT_N</th>\n",
       "      <td>3</td>\n",
       "      <td>0.277778</td>\n",
       "    </tr>\n",
       "    <tr>\n",
       "      <th>pBRAF_N</th>\n",
       "      <td>3</td>\n",
       "      <td>0.277778</td>\n",
       "    </tr>\n",
       "    <tr>\n",
       "      <th>pCAMKII_N</th>\n",
       "      <td>3</td>\n",
       "      <td>0.277778</td>\n",
       "    </tr>\n",
       "    <tr>\n",
       "      <th>pCREB_N</th>\n",
       "      <td>3</td>\n",
       "      <td>0.277778</td>\n",
       "    </tr>\n",
       "    <tr>\n",
       "      <th>pELK_N</th>\n",
       "      <td>3</td>\n",
       "      <td>0.277778</td>\n",
       "    </tr>\n",
       "    <tr>\n",
       "      <th>pERK_N</th>\n",
       "      <td>3</td>\n",
       "      <td>0.277778</td>\n",
       "    </tr>\n",
       "    <tr>\n",
       "      <th>pJNK_N</th>\n",
       "      <td>3</td>\n",
       "      <td>0.277778</td>\n",
       "    </tr>\n",
       "    <tr>\n",
       "      <th>PKCA_N</th>\n",
       "      <td>3</td>\n",
       "      <td>0.277778</td>\n",
       "    </tr>\n",
       "    <tr>\n",
       "      <th>pMEK_N</th>\n",
       "      <td>3</td>\n",
       "      <td>0.277778</td>\n",
       "    </tr>\n",
       "    <tr>\n",
       "      <th>pNR1_N</th>\n",
       "      <td>3</td>\n",
       "      <td>0.277778</td>\n",
       "    </tr>\n",
       "    <tr>\n",
       "      <th>pNR2A_N</th>\n",
       "      <td>3</td>\n",
       "      <td>0.277778</td>\n",
       "    </tr>\n",
       "    <tr>\n",
       "      <th>pNR2B_N</th>\n",
       "      <td>3</td>\n",
       "      <td>0.277778</td>\n",
       "    </tr>\n",
       "    <tr>\n",
       "      <th>pPKCAB_N</th>\n",
       "      <td>3</td>\n",
       "      <td>0.277778</td>\n",
       "    </tr>\n",
       "    <tr>\n",
       "      <th>pRSK_N</th>\n",
       "      <td>3</td>\n",
       "      <td>0.277778</td>\n",
       "    </tr>\n",
       "    <tr>\n",
       "      <th>AKT_N</th>\n",
       "      <td>3</td>\n",
       "      <td>0.277778</td>\n",
       "    </tr>\n",
       "    <tr>\n",
       "      <th>BRAF_N</th>\n",
       "      <td>3</td>\n",
       "      <td>0.277778</td>\n",
       "    </tr>\n",
       "    <tr>\n",
       "      <th>CAMKII_N</th>\n",
       "      <td>3</td>\n",
       "      <td>0.277778</td>\n",
       "    </tr>\n",
       "    <tr>\n",
       "      <th>CREB_N</th>\n",
       "      <td>3</td>\n",
       "      <td>0.277778</td>\n",
       "    </tr>\n",
       "    <tr>\n",
       "      <th>ELK_N</th>\n",
       "      <td>18</td>\n",
       "      <td>1.666667</td>\n",
       "    </tr>\n",
       "    <tr>\n",
       "      <th>ERK_N</th>\n",
       "      <td>3</td>\n",
       "      <td>0.277778</td>\n",
       "    </tr>\n",
       "    <tr>\n",
       "      <th>GSK3B_N</th>\n",
       "      <td>3</td>\n",
       "      <td>0.277778</td>\n",
       "    </tr>\n",
       "    <tr>\n",
       "      <th>JNK_N</th>\n",
       "      <td>3</td>\n",
       "      <td>0.277778</td>\n",
       "    </tr>\n",
       "    <tr>\n",
       "      <th>MEK_N</th>\n",
       "      <td>7</td>\n",
       "      <td>0.648148</td>\n",
       "    </tr>\n",
       "    <tr>\n",
       "      <th>TRKA_N</th>\n",
       "      <td>3</td>\n",
       "      <td>0.277778</td>\n",
       "    </tr>\n",
       "    <tr>\n",
       "      <th>...</th>\n",
       "      <td>...</td>\n",
       "      <td>...</td>\n",
       "    </tr>\n",
       "    <tr>\n",
       "      <th>RRP1_N</th>\n",
       "      <td>0</td>\n",
       "      <td>0.000000</td>\n",
       "    </tr>\n",
       "    <tr>\n",
       "      <th>BAX_N</th>\n",
       "      <td>0</td>\n",
       "      <td>0.000000</td>\n",
       "    </tr>\n",
       "    <tr>\n",
       "      <th>ARC_N</th>\n",
       "      <td>0</td>\n",
       "      <td>0.000000</td>\n",
       "    </tr>\n",
       "    <tr>\n",
       "      <th>ERBB4_N</th>\n",
       "      <td>0</td>\n",
       "      <td>0.000000</td>\n",
       "    </tr>\n",
       "    <tr>\n",
       "      <th>nNOS_N</th>\n",
       "      <td>0</td>\n",
       "      <td>0.000000</td>\n",
       "    </tr>\n",
       "    <tr>\n",
       "      <th>Tau_N</th>\n",
       "      <td>0</td>\n",
       "      <td>0.000000</td>\n",
       "    </tr>\n",
       "    <tr>\n",
       "      <th>GFAP_N</th>\n",
       "      <td>0</td>\n",
       "      <td>0.000000</td>\n",
       "    </tr>\n",
       "    <tr>\n",
       "      <th>GluR3_N</th>\n",
       "      <td>0</td>\n",
       "      <td>0.000000</td>\n",
       "    </tr>\n",
       "    <tr>\n",
       "      <th>GluR4_N</th>\n",
       "      <td>0</td>\n",
       "      <td>0.000000</td>\n",
       "    </tr>\n",
       "    <tr>\n",
       "      <th>IL1B_N</th>\n",
       "      <td>0</td>\n",
       "      <td>0.000000</td>\n",
       "    </tr>\n",
       "    <tr>\n",
       "      <th>P3525_N</th>\n",
       "      <td>0</td>\n",
       "      <td>0.000000</td>\n",
       "    </tr>\n",
       "    <tr>\n",
       "      <th>pCASP9_N</th>\n",
       "      <td>0</td>\n",
       "      <td>0.000000</td>\n",
       "    </tr>\n",
       "    <tr>\n",
       "      <th>PSD95_N</th>\n",
       "      <td>0</td>\n",
       "      <td>0.000000</td>\n",
       "    </tr>\n",
       "    <tr>\n",
       "      <th>SNCA_N</th>\n",
       "      <td>0</td>\n",
       "      <td>0.000000</td>\n",
       "    </tr>\n",
       "    <tr>\n",
       "      <th>Ubiquitin_N</th>\n",
       "      <td>0</td>\n",
       "      <td>0.000000</td>\n",
       "    </tr>\n",
       "    <tr>\n",
       "      <th>pGSK3B_Tyr216_N</th>\n",
       "      <td>0</td>\n",
       "      <td>0.000000</td>\n",
       "    </tr>\n",
       "    <tr>\n",
       "      <th>SHH_N</th>\n",
       "      <td>0</td>\n",
       "      <td>0.000000</td>\n",
       "    </tr>\n",
       "    <tr>\n",
       "      <th>BAD_N</th>\n",
       "      <td>213</td>\n",
       "      <td>19.722222</td>\n",
       "    </tr>\n",
       "    <tr>\n",
       "      <th>BCL2_N</th>\n",
       "      <td>285</td>\n",
       "      <td>26.388889</td>\n",
       "    </tr>\n",
       "    <tr>\n",
       "      <th>pS6_N</th>\n",
       "      <td>0</td>\n",
       "      <td>0.000000</td>\n",
       "    </tr>\n",
       "    <tr>\n",
       "      <th>pCFOS_N</th>\n",
       "      <td>75</td>\n",
       "      <td>6.944444</td>\n",
       "    </tr>\n",
       "    <tr>\n",
       "      <th>SYP_N</th>\n",
       "      <td>0</td>\n",
       "      <td>0.000000</td>\n",
       "    </tr>\n",
       "    <tr>\n",
       "      <th>H3AcK18_N</th>\n",
       "      <td>180</td>\n",
       "      <td>16.666667</td>\n",
       "    </tr>\n",
       "    <tr>\n",
       "      <th>EGR1_N</th>\n",
       "      <td>210</td>\n",
       "      <td>19.444444</td>\n",
       "    </tr>\n",
       "    <tr>\n",
       "      <th>H3MeK4_N</th>\n",
       "      <td>270</td>\n",
       "      <td>25.000000</td>\n",
       "    </tr>\n",
       "    <tr>\n",
       "      <th>CaNA_N</th>\n",
       "      <td>0</td>\n",
       "      <td>0.000000</td>\n",
       "    </tr>\n",
       "    <tr>\n",
       "      <th>Genotype</th>\n",
       "      <td>0</td>\n",
       "      <td>0.000000</td>\n",
       "    </tr>\n",
       "    <tr>\n",
       "      <th>Treatment</th>\n",
       "      <td>0</td>\n",
       "      <td>0.000000</td>\n",
       "    </tr>\n",
       "    <tr>\n",
       "      <th>Behavior</th>\n",
       "      <td>0</td>\n",
       "      <td>0.000000</td>\n",
       "    </tr>\n",
       "    <tr>\n",
       "      <th>class</th>\n",
       "      <td>0</td>\n",
       "      <td>0.000000</td>\n",
       "    </tr>\n",
       "  </tbody>\n",
       "</table>\n",
       "<p>82 rows × 2 columns</p>\n",
       "</div>"
      ],
      "text/plain": [
       "                 Total    Percent\n",
       "MouseID              0   0.000000\n",
       "DYRK1A_N             3   0.277778\n",
       "ITSN1_N              3   0.277778\n",
       "BDNF_N               3   0.277778\n",
       "NR1_N                3   0.277778\n",
       "NR2A_N               3   0.277778\n",
       "pAKT_N               3   0.277778\n",
       "pBRAF_N              3   0.277778\n",
       "pCAMKII_N            3   0.277778\n",
       "pCREB_N              3   0.277778\n",
       "pELK_N               3   0.277778\n",
       "pERK_N               3   0.277778\n",
       "pJNK_N               3   0.277778\n",
       "PKCA_N               3   0.277778\n",
       "pMEK_N               3   0.277778\n",
       "pNR1_N               3   0.277778\n",
       "pNR2A_N              3   0.277778\n",
       "pNR2B_N              3   0.277778\n",
       "pPKCAB_N             3   0.277778\n",
       "pRSK_N               3   0.277778\n",
       "AKT_N                3   0.277778\n",
       "BRAF_N               3   0.277778\n",
       "CAMKII_N             3   0.277778\n",
       "CREB_N               3   0.277778\n",
       "ELK_N               18   1.666667\n",
       "ERK_N                3   0.277778\n",
       "GSK3B_N              3   0.277778\n",
       "JNK_N                3   0.277778\n",
       "MEK_N                7   0.648148\n",
       "TRKA_N               3   0.277778\n",
       "...                ...        ...\n",
       "RRP1_N               0   0.000000\n",
       "BAX_N                0   0.000000\n",
       "ARC_N                0   0.000000\n",
       "ERBB4_N              0   0.000000\n",
       "nNOS_N               0   0.000000\n",
       "Tau_N                0   0.000000\n",
       "GFAP_N               0   0.000000\n",
       "GluR3_N              0   0.000000\n",
       "GluR4_N              0   0.000000\n",
       "IL1B_N               0   0.000000\n",
       "P3525_N              0   0.000000\n",
       "pCASP9_N             0   0.000000\n",
       "PSD95_N              0   0.000000\n",
       "SNCA_N               0   0.000000\n",
       "Ubiquitin_N          0   0.000000\n",
       "pGSK3B_Tyr216_N      0   0.000000\n",
       "SHH_N                0   0.000000\n",
       "BAD_N              213  19.722222\n",
       "BCL2_N             285  26.388889\n",
       "pS6_N                0   0.000000\n",
       "pCFOS_N             75   6.944444\n",
       "SYP_N                0   0.000000\n",
       "H3AcK18_N          180  16.666667\n",
       "EGR1_N             210  19.444444\n",
       "H3MeK4_N           270  25.000000\n",
       "CaNA_N               0   0.000000\n",
       "Genotype             0   0.000000\n",
       "Treatment            0   0.000000\n",
       "Behavior             0   0.000000\n",
       "class                0   0.000000\n",
       "\n",
       "[82 rows x 2 columns]"
      ]
     },
     "execution_count": 5,
     "metadata": {},
     "output_type": "execute_result"
    }
   ],
   "source": [
    "total=mice_data.isnull().sum()\n",
    "percent=(((mice_data.isnull().sum()/mice_data.isnull().count()))*100)\n",
    "missing_data=pd.concat([total,percent],axis=1,keys=['Total','Percent'])\n",
    "missing_data"
   ]
  },
  {
   "cell_type": "markdown",
   "metadata": {},
   "source": [
    "#### Now only for those rows where missing values are actually present"
   ]
  },
  {
   "cell_type": "code",
   "execution_count": 6,
   "metadata": {},
   "outputs": [
    {
     "data": {
      "text/html": [
       "<div>\n",
       "<style scoped>\n",
       "    .dataframe tbody tr th:only-of-type {\n",
       "        vertical-align: middle;\n",
       "    }\n",
       "\n",
       "    .dataframe tbody tr th {\n",
       "        vertical-align: top;\n",
       "    }\n",
       "\n",
       "    .dataframe thead th {\n",
       "        text-align: right;\n",
       "    }\n",
       "</style>\n",
       "<table border=\"1\" class=\"dataframe\">\n",
       "  <thead>\n",
       "    <tr style=\"text-align: right;\">\n",
       "      <th></th>\n",
       "      <th>Total</th>\n",
       "      <th>Percent</th>\n",
       "    </tr>\n",
       "  </thead>\n",
       "  <tbody>\n",
       "    <tr>\n",
       "      <th>DYRK1A_N</th>\n",
       "      <td>3</td>\n",
       "      <td>0.277778</td>\n",
       "    </tr>\n",
       "    <tr>\n",
       "      <th>ITSN1_N</th>\n",
       "      <td>3</td>\n",
       "      <td>0.277778</td>\n",
       "    </tr>\n",
       "    <tr>\n",
       "      <th>BDNF_N</th>\n",
       "      <td>3</td>\n",
       "      <td>0.277778</td>\n",
       "    </tr>\n",
       "    <tr>\n",
       "      <th>NR1_N</th>\n",
       "      <td>3</td>\n",
       "      <td>0.277778</td>\n",
       "    </tr>\n",
       "    <tr>\n",
       "      <th>NR2A_N</th>\n",
       "      <td>3</td>\n",
       "      <td>0.277778</td>\n",
       "    </tr>\n",
       "    <tr>\n",
       "      <th>pAKT_N</th>\n",
       "      <td>3</td>\n",
       "      <td>0.277778</td>\n",
       "    </tr>\n",
       "    <tr>\n",
       "      <th>pBRAF_N</th>\n",
       "      <td>3</td>\n",
       "      <td>0.277778</td>\n",
       "    </tr>\n",
       "    <tr>\n",
       "      <th>pCAMKII_N</th>\n",
       "      <td>3</td>\n",
       "      <td>0.277778</td>\n",
       "    </tr>\n",
       "    <tr>\n",
       "      <th>pCREB_N</th>\n",
       "      <td>3</td>\n",
       "      <td>0.277778</td>\n",
       "    </tr>\n",
       "    <tr>\n",
       "      <th>pELK_N</th>\n",
       "      <td>3</td>\n",
       "      <td>0.277778</td>\n",
       "    </tr>\n",
       "    <tr>\n",
       "      <th>pERK_N</th>\n",
       "      <td>3</td>\n",
       "      <td>0.277778</td>\n",
       "    </tr>\n",
       "    <tr>\n",
       "      <th>pJNK_N</th>\n",
       "      <td>3</td>\n",
       "      <td>0.277778</td>\n",
       "    </tr>\n",
       "    <tr>\n",
       "      <th>PKCA_N</th>\n",
       "      <td>3</td>\n",
       "      <td>0.277778</td>\n",
       "    </tr>\n",
       "    <tr>\n",
       "      <th>pMEK_N</th>\n",
       "      <td>3</td>\n",
       "      <td>0.277778</td>\n",
       "    </tr>\n",
       "    <tr>\n",
       "      <th>pNR1_N</th>\n",
       "      <td>3</td>\n",
       "      <td>0.277778</td>\n",
       "    </tr>\n",
       "    <tr>\n",
       "      <th>pNR2A_N</th>\n",
       "      <td>3</td>\n",
       "      <td>0.277778</td>\n",
       "    </tr>\n",
       "    <tr>\n",
       "      <th>pNR2B_N</th>\n",
       "      <td>3</td>\n",
       "      <td>0.277778</td>\n",
       "    </tr>\n",
       "    <tr>\n",
       "      <th>pPKCAB_N</th>\n",
       "      <td>3</td>\n",
       "      <td>0.277778</td>\n",
       "    </tr>\n",
       "    <tr>\n",
       "      <th>pRSK_N</th>\n",
       "      <td>3</td>\n",
       "      <td>0.277778</td>\n",
       "    </tr>\n",
       "    <tr>\n",
       "      <th>AKT_N</th>\n",
       "      <td>3</td>\n",
       "      <td>0.277778</td>\n",
       "    </tr>\n",
       "    <tr>\n",
       "      <th>BRAF_N</th>\n",
       "      <td>3</td>\n",
       "      <td>0.277778</td>\n",
       "    </tr>\n",
       "    <tr>\n",
       "      <th>CAMKII_N</th>\n",
       "      <td>3</td>\n",
       "      <td>0.277778</td>\n",
       "    </tr>\n",
       "    <tr>\n",
       "      <th>CREB_N</th>\n",
       "      <td>3</td>\n",
       "      <td>0.277778</td>\n",
       "    </tr>\n",
       "    <tr>\n",
       "      <th>ELK_N</th>\n",
       "      <td>18</td>\n",
       "      <td>1.666667</td>\n",
       "    </tr>\n",
       "    <tr>\n",
       "      <th>ERK_N</th>\n",
       "      <td>3</td>\n",
       "      <td>0.277778</td>\n",
       "    </tr>\n",
       "    <tr>\n",
       "      <th>GSK3B_N</th>\n",
       "      <td>3</td>\n",
       "      <td>0.277778</td>\n",
       "    </tr>\n",
       "    <tr>\n",
       "      <th>JNK_N</th>\n",
       "      <td>3</td>\n",
       "      <td>0.277778</td>\n",
       "    </tr>\n",
       "    <tr>\n",
       "      <th>MEK_N</th>\n",
       "      <td>7</td>\n",
       "      <td>0.648148</td>\n",
       "    </tr>\n",
       "    <tr>\n",
       "      <th>TRKA_N</th>\n",
       "      <td>3</td>\n",
       "      <td>0.277778</td>\n",
       "    </tr>\n",
       "    <tr>\n",
       "      <th>RSK_N</th>\n",
       "      <td>3</td>\n",
       "      <td>0.277778</td>\n",
       "    </tr>\n",
       "    <tr>\n",
       "      <th>APP_N</th>\n",
       "      <td>3</td>\n",
       "      <td>0.277778</td>\n",
       "    </tr>\n",
       "    <tr>\n",
       "      <th>Bcatenin_N</th>\n",
       "      <td>18</td>\n",
       "      <td>1.666667</td>\n",
       "    </tr>\n",
       "    <tr>\n",
       "      <th>SOD1_N</th>\n",
       "      <td>3</td>\n",
       "      <td>0.277778</td>\n",
       "    </tr>\n",
       "    <tr>\n",
       "      <th>MTOR_N</th>\n",
       "      <td>3</td>\n",
       "      <td>0.277778</td>\n",
       "    </tr>\n",
       "    <tr>\n",
       "      <th>P38_N</th>\n",
       "      <td>3</td>\n",
       "      <td>0.277778</td>\n",
       "    </tr>\n",
       "    <tr>\n",
       "      <th>pMTOR_N</th>\n",
       "      <td>3</td>\n",
       "      <td>0.277778</td>\n",
       "    </tr>\n",
       "    <tr>\n",
       "      <th>DSCR1_N</th>\n",
       "      <td>3</td>\n",
       "      <td>0.277778</td>\n",
       "    </tr>\n",
       "    <tr>\n",
       "      <th>AMPKA_N</th>\n",
       "      <td>3</td>\n",
       "      <td>0.277778</td>\n",
       "    </tr>\n",
       "    <tr>\n",
       "      <th>NR2B_N</th>\n",
       "      <td>3</td>\n",
       "      <td>0.277778</td>\n",
       "    </tr>\n",
       "    <tr>\n",
       "      <th>pNUMB_N</th>\n",
       "      <td>3</td>\n",
       "      <td>0.277778</td>\n",
       "    </tr>\n",
       "    <tr>\n",
       "      <th>RAPTOR_N</th>\n",
       "      <td>3</td>\n",
       "      <td>0.277778</td>\n",
       "    </tr>\n",
       "    <tr>\n",
       "      <th>TIAM1_N</th>\n",
       "      <td>3</td>\n",
       "      <td>0.277778</td>\n",
       "    </tr>\n",
       "    <tr>\n",
       "      <th>pP70S6_N</th>\n",
       "      <td>3</td>\n",
       "      <td>0.277778</td>\n",
       "    </tr>\n",
       "    <tr>\n",
       "      <th>BAD_N</th>\n",
       "      <td>213</td>\n",
       "      <td>19.722222</td>\n",
       "    </tr>\n",
       "    <tr>\n",
       "      <th>BCL2_N</th>\n",
       "      <td>285</td>\n",
       "      <td>26.388889</td>\n",
       "    </tr>\n",
       "    <tr>\n",
       "      <th>pCFOS_N</th>\n",
       "      <td>75</td>\n",
       "      <td>6.944444</td>\n",
       "    </tr>\n",
       "    <tr>\n",
       "      <th>H3AcK18_N</th>\n",
       "      <td>180</td>\n",
       "      <td>16.666667</td>\n",
       "    </tr>\n",
       "    <tr>\n",
       "      <th>EGR1_N</th>\n",
       "      <td>210</td>\n",
       "      <td>19.444444</td>\n",
       "    </tr>\n",
       "    <tr>\n",
       "      <th>H3MeK4_N</th>\n",
       "      <td>270</td>\n",
       "      <td>25.000000</td>\n",
       "    </tr>\n",
       "  </tbody>\n",
       "</table>\n",
       "</div>"
      ],
      "text/plain": [
       "            Total    Percent\n",
       "DYRK1A_N        3   0.277778\n",
       "ITSN1_N         3   0.277778\n",
       "BDNF_N          3   0.277778\n",
       "NR1_N           3   0.277778\n",
       "NR2A_N          3   0.277778\n",
       "pAKT_N          3   0.277778\n",
       "pBRAF_N         3   0.277778\n",
       "pCAMKII_N       3   0.277778\n",
       "pCREB_N         3   0.277778\n",
       "pELK_N          3   0.277778\n",
       "pERK_N          3   0.277778\n",
       "pJNK_N          3   0.277778\n",
       "PKCA_N          3   0.277778\n",
       "pMEK_N          3   0.277778\n",
       "pNR1_N          3   0.277778\n",
       "pNR2A_N         3   0.277778\n",
       "pNR2B_N         3   0.277778\n",
       "pPKCAB_N        3   0.277778\n",
       "pRSK_N          3   0.277778\n",
       "AKT_N           3   0.277778\n",
       "BRAF_N          3   0.277778\n",
       "CAMKII_N        3   0.277778\n",
       "CREB_N          3   0.277778\n",
       "ELK_N          18   1.666667\n",
       "ERK_N           3   0.277778\n",
       "GSK3B_N         3   0.277778\n",
       "JNK_N           3   0.277778\n",
       "MEK_N           7   0.648148\n",
       "TRKA_N          3   0.277778\n",
       "RSK_N           3   0.277778\n",
       "APP_N           3   0.277778\n",
       "Bcatenin_N     18   1.666667\n",
       "SOD1_N          3   0.277778\n",
       "MTOR_N          3   0.277778\n",
       "P38_N           3   0.277778\n",
       "pMTOR_N         3   0.277778\n",
       "DSCR1_N         3   0.277778\n",
       "AMPKA_N         3   0.277778\n",
       "NR2B_N          3   0.277778\n",
       "pNUMB_N         3   0.277778\n",
       "RAPTOR_N        3   0.277778\n",
       "TIAM1_N         3   0.277778\n",
       "pP70S6_N        3   0.277778\n",
       "BAD_N         213  19.722222\n",
       "BCL2_N        285  26.388889\n",
       "pCFOS_N        75   6.944444\n",
       "H3AcK18_N     180  16.666667\n",
       "EGR1_N        210  19.444444\n",
       "H3MeK4_N      270  25.000000"
      ]
     },
     "execution_count": 6,
     "metadata": {},
     "output_type": "execute_result"
    }
   ],
   "source": [
    "missing_data[missing_data.Total>0]"
   ]
  },
  {
   "cell_type": "markdown",
   "metadata": {},
   "source": [
    "## Now Working on the missing values"
   ]
  },
  {
   "cell_type": "code",
   "execution_count": 7,
   "metadata": {},
   "outputs": [],
   "source": [
    "#First I am going to find the missing value row present in the 'DYRK1A_N' column"
   ]
  },
  {
   "cell_type": "code",
   "execution_count": 8,
   "metadata": {},
   "outputs": [
    {
     "name": "stdout",
     "output_type": "stream",
     "text": [
      "     DYRK1A_N  ITSN1_N  BDNF_N  NR1_N  NR2A_N  pAKT_N  pBRAF_N  pCAMKII_N  \\\n",
      "987       NaN      NaN     NaN    NaN     NaN     NaN      NaN        NaN   \n",
      "988       NaN      NaN     NaN    NaN     NaN     NaN      NaN        NaN   \n",
      "989       NaN      NaN     NaN    NaN     NaN     NaN      NaN        NaN   \n",
      "\n",
      "     pCREB_N  pELK_N  ...  pNUMB_N  RAPTOR_N  TIAM1_N  pP70S6_N     BAD_N  \\\n",
      "987      NaN     NaN  ...      NaN       NaN      NaN       NaN  0.182471   \n",
      "988      NaN     NaN  ...      NaN       NaN      NaN       NaN  0.180335   \n",
      "989      NaN     NaN  ...      NaN       NaN      NaN       NaN  0.180523   \n",
      "\n",
      "       BCL2_N   pCFOS_N  H3AcK18_N    EGR1_N  H3MeK4_N  \n",
      "987  0.134398  0.112854   0.151693  0.163125  0.208852  \n",
      "988  0.133892  0.120664   0.175044  0.185038  0.195326  \n",
      "989  0.139697  0.098278   0.172209  0.200861  0.233076  \n",
      "\n",
      "[3 rows x 49 columns]\n"
     ]
    }
   ],
   "source": [
    "null_columns=mice_data.columns[mice_data.isnull().any()]\n",
    "print(mice_data[mice_data['DYRK1A_N'].isnull()][null_columns])\n",
    "#print(mice_data['DYRK1A_N'].isnull())"
   ]
  },
  {
   "cell_type": "markdown",
   "metadata": {},
   "source": [
    "#### As we can see above that most of the columns corresponding with the missing values of protein 'DyRK1A_N' also have missing values therefore we can then remove these 3 entire rows itself as they will remove missing values from the other columns as well and also will not provide any useful information to us"
   ]
  },
  {
   "cell_type": "code",
   "execution_count": 9,
   "metadata": {},
   "outputs": [],
   "source": [
    "#Dropping the rows containing the missing values of column 'DYRK1A_N'\n",
    "mice_data=mice_data.dropna(subset=['DYRK1A_N'])"
   ]
  },
  {
   "cell_type": "code",
   "execution_count": 10,
   "metadata": {},
   "outputs": [
    {
     "data": {
      "text/plain": [
       "(1077, 82)"
      ]
     },
     "execution_count": 10,
     "metadata": {},
     "output_type": "execute_result"
    }
   ],
   "source": [
    "mice_data.shape"
   ]
  },
  {
   "cell_type": "code",
   "execution_count": 11,
   "metadata": {},
   "outputs": [
    {
     "data": {
      "text/html": [
       "<div>\n",
       "<style scoped>\n",
       "    .dataframe tbody tr th:only-of-type {\n",
       "        vertical-align: middle;\n",
       "    }\n",
       "\n",
       "    .dataframe tbody tr th {\n",
       "        vertical-align: top;\n",
       "    }\n",
       "\n",
       "    .dataframe thead th {\n",
       "        text-align: right;\n",
       "    }\n",
       "</style>\n",
       "<table border=\"1\" class=\"dataframe\">\n",
       "  <thead>\n",
       "    <tr style=\"text-align: right;\">\n",
       "      <th></th>\n",
       "      <th>Total</th>\n",
       "      <th>Percent</th>\n",
       "    </tr>\n",
       "  </thead>\n",
       "  <tbody>\n",
       "    <tr>\n",
       "      <th>ELK_N</th>\n",
       "      <td>15</td>\n",
       "      <td>1.392758</td>\n",
       "    </tr>\n",
       "    <tr>\n",
       "      <th>MEK_N</th>\n",
       "      <td>4</td>\n",
       "      <td>0.371402</td>\n",
       "    </tr>\n",
       "    <tr>\n",
       "      <th>Bcatenin_N</th>\n",
       "      <td>15</td>\n",
       "      <td>1.392758</td>\n",
       "    </tr>\n",
       "    <tr>\n",
       "      <th>BAD_N</th>\n",
       "      <td>213</td>\n",
       "      <td>19.777159</td>\n",
       "    </tr>\n",
       "    <tr>\n",
       "      <th>BCL2_N</th>\n",
       "      <td>285</td>\n",
       "      <td>26.462396</td>\n",
       "    </tr>\n",
       "    <tr>\n",
       "      <th>pCFOS_N</th>\n",
       "      <td>75</td>\n",
       "      <td>6.963788</td>\n",
       "    </tr>\n",
       "    <tr>\n",
       "      <th>H3AcK18_N</th>\n",
       "      <td>180</td>\n",
       "      <td>16.713092</td>\n",
       "    </tr>\n",
       "    <tr>\n",
       "      <th>EGR1_N</th>\n",
       "      <td>210</td>\n",
       "      <td>19.498607</td>\n",
       "    </tr>\n",
       "    <tr>\n",
       "      <th>H3MeK4_N</th>\n",
       "      <td>270</td>\n",
       "      <td>25.069638</td>\n",
       "    </tr>\n",
       "  </tbody>\n",
       "</table>\n",
       "</div>"
      ],
      "text/plain": [
       "            Total    Percent\n",
       "ELK_N          15   1.392758\n",
       "MEK_N           4   0.371402\n",
       "Bcatenin_N     15   1.392758\n",
       "BAD_N         213  19.777159\n",
       "BCL2_N        285  26.462396\n",
       "pCFOS_N        75   6.963788\n",
       "H3AcK18_N     180  16.713092\n",
       "EGR1_N        210  19.498607\n",
       "H3MeK4_N      270  25.069638"
      ]
     },
     "execution_count": 11,
     "metadata": {},
     "output_type": "execute_result"
    }
   ],
   "source": [
    "total=mice_data.isnull().sum()\n",
    "percent=(((mice_data.isnull().sum()/mice_data.isnull().count()))*100)\n",
    "missing_data=pd.concat([total,percent],axis=1,keys=['Total','Percent'])\n",
    "missing_data[missing_data.Total>0]\n",
    "\n",
    "#Therefore looks like we have eliminated missing values for many columns "
   ]
  },
  {
   "cell_type": "markdown",
   "metadata": {},
   "source": [
    "#### Now for the rest of the missing values we are going to impute them with the mean of the enitre column as this method is deemed the most appropriate solution"
   ]
  },
  {
   "cell_type": "code",
   "execution_count": 12,
   "metadata": {},
   "outputs": [
    {
     "data": {
      "text/plain": [
       "0"
      ]
     },
     "execution_count": 12,
     "metadata": {},
     "output_type": "execute_result"
    }
   ],
   "source": [
    "mice_data['ELK_N'].fillna((mice_data['ELK_N'].mean()),inplace=True)\n",
    "mice_data['ELK_N'].isnull().sum()"
   ]
  },
  {
   "cell_type": "code",
   "execution_count": 13,
   "metadata": {},
   "outputs": [
    {
     "data": {
      "text/plain": [
       "0"
      ]
     },
     "execution_count": 13,
     "metadata": {},
     "output_type": "execute_result"
    }
   ],
   "source": [
    "mice_data['MEK_N'].fillna((mice_data['MEK_N'].mean()),inplace=True)\n",
    "mice_data['MEK_N'].isnull().sum()"
   ]
  },
  {
   "cell_type": "code",
   "execution_count": 14,
   "metadata": {},
   "outputs": [
    {
     "data": {
      "text/plain": [
       "0"
      ]
     },
     "execution_count": 14,
     "metadata": {},
     "output_type": "execute_result"
    }
   ],
   "source": [
    "mice_data['Bcatenin_N'].fillna((mice_data['Bcatenin_N'].mean()),inplace=True)\n",
    "mice_data['Bcatenin_N'].isnull().sum()"
   ]
  },
  {
   "cell_type": "code",
   "execution_count": 15,
   "metadata": {},
   "outputs": [
    {
     "data": {
      "text/plain": [
       "0"
      ]
     },
     "execution_count": 15,
     "metadata": {},
     "output_type": "execute_result"
    }
   ],
   "source": [
    "mice_data['BAD_N'].fillna((mice_data['BAD_N'].mean()),inplace=True)\n",
    "mice_data['BAD_N'].isnull().sum()"
   ]
  },
  {
   "cell_type": "code",
   "execution_count": 16,
   "metadata": {},
   "outputs": [
    {
     "data": {
      "text/plain": [
       "0"
      ]
     },
     "execution_count": 16,
     "metadata": {},
     "output_type": "execute_result"
    }
   ],
   "source": [
    "mice_data['BCL2_N'].fillna((mice_data['BCL2_N'].mean()),inplace=True)\n",
    "mice_data['BCL2_N'].isnull().sum()"
   ]
  },
  {
   "cell_type": "code",
   "execution_count": 17,
   "metadata": {},
   "outputs": [
    {
     "data": {
      "text/plain": [
       "0"
      ]
     },
     "execution_count": 17,
     "metadata": {},
     "output_type": "execute_result"
    }
   ],
   "source": [
    "mice_data['pCFOS_N'].fillna((mice_data['pCFOS_N'].mean()),inplace=True)\n",
    "mice_data['pCFOS_N'].isnull().sum()"
   ]
  },
  {
   "cell_type": "code",
   "execution_count": 18,
   "metadata": {},
   "outputs": [
    {
     "data": {
      "text/plain": [
       "0"
      ]
     },
     "execution_count": 18,
     "metadata": {},
     "output_type": "execute_result"
    }
   ],
   "source": [
    "mice_data['H3AcK18_N'].fillna((mice_data['H3AcK18_N'].mean()),inplace=True)\n",
    "mice_data['H3AcK18_N'].isnull().sum()"
   ]
  },
  {
   "cell_type": "code",
   "execution_count": 19,
   "metadata": {},
   "outputs": [
    {
     "data": {
      "text/plain": [
       "0"
      ]
     },
     "execution_count": 19,
     "metadata": {},
     "output_type": "execute_result"
    }
   ],
   "source": [
    "mice_data['EGR1_N'].fillna((mice_data['EGR1_N'].mean()),inplace=True)\n",
    "mice_data['EGR1_N'].isnull().sum()"
   ]
  },
  {
   "cell_type": "code",
   "execution_count": 20,
   "metadata": {},
   "outputs": [
    {
     "data": {
      "text/plain": [
       "0"
      ]
     },
     "execution_count": 20,
     "metadata": {},
     "output_type": "execute_result"
    }
   ],
   "source": [
    "mice_data['H3MeK4_N'].fillna((mice_data['H3MeK4_N'].mean()),inplace=True)\n",
    "mice_data['H3MeK4_N'].isnull().sum()"
   ]
  },
  {
   "cell_type": "markdown",
   "metadata": {},
   "source": [
    "# Now working on the Descriptive features doing Data Visualisation"
   ]
  },
  {
   "cell_type": "code",
   "execution_count": 21,
   "metadata": {},
   "outputs": [
    {
     "data": {
      "text/plain": [
       "Text(0.5, 1.0, 'Frequency of genotypes')"
      ]
     },
     "execution_count": 21,
     "metadata": {},
     "output_type": "execute_result"
    },
    {
     "data": {
      "image/png": "[encoded data removed]",
      "text/plain": [
       "<Figure size 864x432 with 1 Axes>"
      ]
     },
     "metadata": {
      "needs_background": "light"
     },
     "output_type": "display_data"
    }
   ],
   "source": [
    "#Checking the Genotypes of the mices\n",
    "geno_value=mice_data['Genotype'].value_counts()\n",
    "plt.figure(figsize=(12,6))\n",
    "plt.bar(geno_value.index,geno_value.values)\n",
    "plt.xlabel(\"Genotypes\")\n",
    "plt.ylabel(\"Frequency\")\n",
    "plt.title(\"Frequency of genotypes\")"
   ]
  },
  {
   "cell_type": "code",
   "execution_count": 22,
   "metadata": {},
   "outputs": [
    {
     "data": {
      "text/plain": [
       "Text(0.5, 1.0, 'Frequency of Treatments')"
      ]
     },
     "execution_count": 22,
     "metadata": {},
     "output_type": "execute_result"
    },
    {
     "data": {
      "image/png": "[encoded data removed]",
      "text/plain": [
       "<Figure size 864x432 with 1 Axes>"
      ]
     },
     "metadata": {
      "needs_background": "light"
     },
     "output_type": "display_data"
    }
   ],
   "source": [
    "treatment=mice_data['Treatment'].value_counts()\n",
    "plt.figure(figsize=(12,6))\n",
    "plt.bar(treatment.index,treatment.values)\n",
    "plt.xlabel(\"treatments\")\n",
    "plt.ylabel(\"Frequency\")\n",
    "plt.title(\"Frequency of Treatments\")"
   ]
  },
  {
   "cell_type": "code",
   "execution_count": 23,
   "metadata": {},
   "outputs": [
    {
     "data": {
      "text/plain": [
       "Text(0.5, 1.0, 'Frequency of Behaviours')"
      ]
     },
     "execution_count": 23,
     "metadata": {},
     "output_type": "execute_result"
    },
    {
     "data": {
      "image/png": "[encoded data removed]",
      "text/plain": [
       "<Figure size 864x432 with 1 Axes>"
      ]
     },
     "metadata": {
      "needs_background": "light"
     },
     "output_type": "display_data"
    }
   ],
   "source": [
    "behaviour=mice_data['Behavior'].value_counts()\n",
    "plt.figure(figsize=(12,6))\n",
    "plt.bar(behaviour.index,behaviour.values)\n",
    "plt.xlabel(\"Behaviour\")\n",
    "plt.ylabel(\"Frequency\")\n",
    "plt.title(\"Frequency of Behaviours\")"
   ]
  },
  {
   "cell_type": "code",
   "execution_count": 24,
   "metadata": {},
   "outputs": [
    {
     "data": {
      "text/plain": [
       "Text(0.5, 1.0, 'Frequency of DYRK1A_N Protein ingested into the mice')"
      ]
     },
     "execution_count": 24,
     "metadata": {},
     "output_type": "execute_result"
    },
    {
     "data": {
      "image/png": "[encoded data removed]",
      "text/plain": [
       "<Figure size 864x576 with 1 Axes>"
      ]
     },
     "metadata": {
      "needs_background": "light"
     },
     "output_type": "display_data"
    }
   ],
   "source": [
    "plt.figure(figsize=(12,8))\n",
    "plt.hist(mice_data['DYRK1A_N'])\n",
    "plt.xlabel(\"DYRK1A_N Protein\")\n",
    "plt.ylabel(\"Frequency\")\n",
    "plt.title(\"Frequency of DYRK1A_N Protein ingested into the mice\")"
   ]
  },
  {
   "cell_type": "code",
   "execution_count": 25,
   "metadata": {},
   "outputs": [
    {
     "data": {
      "text/plain": [
       "Text(0.5, 1.0, 'Frequency of pAKT_N Protein ingested into the mice')"
      ]
     },
     "execution_count": 25,
     "metadata": {},
     "output_type": "execute_result"
    },
    {
     "data": {
      "image/png": "[encoded data removed]",
      "text/plain": [
       "<Figure size 864x576 with 1 Axes>"
      ]
     },
     "metadata": {
      "needs_background": "light"
     },
     "output_type": "display_data"
    }
   ],
   "source": [
    "plt.figure(figsize=(12,8))\n",
    "plt.hist(mice_data['pAKT_N'])\n",
    "plt.xlabel(\"pAKT_N Protein\")\n",
    "plt.ylabel(\"Frequency\")\n",
    "plt.title(\"Frequency of pAKT_N Protein ingested into the mice\")"
   ]
  },
  {
   "cell_type": "code",
   "execution_count": 26,
   "metadata": {},
   "outputs": [
    {
     "data": {
      "text/plain": [
       "Text(0.5, 1.0, 'Frequency of CAMKII_N Protein ingested into the mice')"
      ]
     },
     "execution_count": 26,
     "metadata": {},
     "output_type": "execute_result"
    },
    {
     "data": {
      "image/png": "[encoded data removed]",
      "text/plain": [
       "<Figure size 864x576 with 1 Axes>"
      ]
     },
     "metadata": {
      "needs_background": "light"
     },
     "output_type": "display_data"
    }
   ],
   "source": [
    "plt.figure(figsize=(12,8))\n",
    "plt.hist(mice_data['CAMKII_N'])\n",
    "plt.xlabel(\"CAMKII_N Protein\")\n",
    "plt.ylabel(\"Frequency\")\n",
    "plt.title(\"Frequency of CAMKII_N Protein ingested into the mice\")"
   ]
  },
  {
   "cell_type": "code",
   "execution_count": 27,
   "metadata": {},
   "outputs": [
    {
     "data": {
      "text/plain": [
       "Text(0.5, 1.0, 'Frequency of RAPTOR_N Protein ingested into the mice')"
      ]
     },
     "execution_count": 27,
     "metadata": {},
     "output_type": "execute_result"
    },
    {
     "data": {
      "image/png": "[encoded data removed]",
      "text/plain": [
       "<Figure size 864x576 with 1 Axes>"
      ]
     },
     "metadata": {
      "needs_background": "light"
     },
     "output_type": "display_data"
    }
   ],
   "source": [
    "plt.figure(figsize=(12,8))\n",
    "plt.hist(mice_data['RAPTOR_N'])\n",
    "plt.xlabel(\"RAPTOR_N Protein\")\n",
    "plt.ylabel(\"Frequency\")\n",
    "plt.title(\"Frequency of RAPTOR_N Protein ingested into the mice\")"
   ]
  },
  {
   "cell_type": "code",
   "execution_count": 28,
   "metadata": {},
   "outputs": [
    {
     "data": {
      "text/plain": [
       "Text(0.5, 1.0, 'Frequency of H3AcK18_N Protein ingested into the mice')"
      ]
     },
     "execution_count": 28,
     "metadata": {},
     "output_type": "execute_result"
    },
    {
     "data": {
      "image/png": "[encoded data removed]",
      "text/plain": [
       "<Figure size 864x576 with 1 Axes>"
      ]
     },
     "metadata": {
      "needs_background": "light"
     },
     "output_type": "display_data"
    }
   ],
   "source": [
    "plt.figure(figsize=(12,8))\n",
    "plt.hist(mice_data['H3AcK18_N'])\n",
    "plt.xlabel(\"H3AcK18_N Protein\")\n",
    "plt.ylabel(\"Frequency\")\n",
    "plt.title(\"Frequency of H3AcK18_N Protein ingested into the mice\")"
   ]
  },
  {
   "cell_type": "code",
   "execution_count": 29,
   "metadata": {},
   "outputs": [
    {
     "data": {
      "text/plain": [
       "Text(0.5, 1.0, 'Frequency of H3MeK4_N Protein ingested into the mice')"
      ]
     },
     "execution_count": 29,
     "metadata": {},
     "output_type": "execute_result"
    },
    {
     "data": {
      "image/png": "[encoded data removed]",
      "text/plain": [
       "<Figure size 864x576 with 1 Axes>"
      ]
     },
     "metadata": {
      "needs_background": "light"
     },
     "output_type": "display_data"
    }
   ],
   "source": [
    "plt.figure(figsize=(12,8))\n",
    "plt.hist(mice_data['H3MeK4_N'])\n",
    "plt.xlabel(\"H3MeK4_N Protein\")\n",
    "plt.ylabel(\"Frequency\")\n",
    "plt.title(\"Frequency of H3MeK4_N Protein ingested into the mice\")"
   ]
  },
  {
   "cell_type": "code",
   "execution_count": 30,
   "metadata": {},
   "outputs": [
    {
     "data": {
      "text/plain": [
       "Text(0.5, 1.0, 'Frequency of the classes')"
      ]
     },
     "execution_count": 30,
     "metadata": {},
     "output_type": "execute_result"
    },
    {
     "data": {
      "image/png": "[encoded data removed]",
      "text/plain": [
       "<Figure size 864x432 with 1 Axes>"
      ]
     },
     "metadata": {
      "needs_background": "light"
     },
     "output_type": "display_data"
    }
   ],
   "source": [
    "classes=mice_data['class'].value_counts()\n",
    "plt.figure(figsize=(12,6))\n",
    "plt.bar(classes.index,classes.values)\n",
    "plt.xlabel(\"Class\")\n",
    "plt.ylabel(\"Frequency\")\n",
    "plt.title(\"Frequency of the classes\")"
   ]
  },
  {
   "cell_type": "markdown",
   "metadata": {},
   "source": [
    "## Doing two variables visualisation"
   ]
  },
  {
   "cell_type": "code",
   "execution_count": 31,
   "metadata": {},
   "outputs": [
    {
     "data": {
      "text/plain": [
       "Text(0.42499999999999716, 0.5, 'CAMKII_N concentration')"
      ]
     },
     "execution_count": 31,
     "metadata": {},
     "output_type": "execute_result"
    },
    {
     "data": {
      "image/png": "[encoded data removed]",
      "text/plain": [
       "<Figure size 360x360 with 1 Axes>"
      ]
     },
     "metadata": {
      "needs_background": "light"
     },
     "output_type": "display_data"
    }
   ],
   "source": [
    "viz=mice_data[(mice_data['class']=='c-CS-m') | (mice_data['class']=='t-CS-m')]\n",
    "viz\n",
    "\n",
    "#Hypothesis: c-CS-m will display a higher median CAMKII_N than that of the t-CS-m \n",
    "sns.catplot(x=\"class\", y=\"CAMKII_N\", kind=\"box\", data=viz);\n",
    "plt.title(\"CAMKII_N protein levels\")\n",
    "plt.ylabel(\"CAMKII_N concentration\")"
   ]
  },
  {
   "cell_type": "code",
   "execution_count": 32,
   "metadata": {
    "scrolled": false
   },
   "outputs": [
    {
     "data": {
      "text/plain": [
       "Text(0.42499999999999716, 0.5, 'CAMKII_N concentration')"
      ]
     },
     "execution_count": 32,
     "metadata": {},
     "output_type": "execute_result"
    },
    {
     "data": {
      "image/png": "[encoded data removed]",
      "text/plain": [
       "<Figure size 360x360 with 1 Axes>"
      ]
     },
     "metadata": {
      "needs_background": "light"
     },
     "output_type": "display_data"
    }
   ],
   "source": [
    "viz2=mice_data[(mice_data['class']=='c-CS-s') | (mice_data['class']=='c-SC-s')]\n",
    "viz2\n",
    "\n",
    "#Hypothesis: c-CS-s will have a higher median concentration than that of c-SC-s\n",
    "\n",
    "sns.catplot(x=\"class\", y=\"CAMKII_N\", kind=\"box\", data=viz2);\n",
    "plt.title(\"CAMKII_N protein levels\")\n",
    "plt.ylabel(\"CAMKII_N concentration\")"
   ]
  },
  {
   "cell_type": "code",
   "execution_count": 33,
   "metadata": {},
   "outputs": [
    {
     "data": {
      "text/plain": [
       "Text(0.5, 1.0, 'Classes with respect to the ITSN1_N protein')"
      ]
     },
     "execution_count": 33,
     "metadata": {},
     "output_type": "execute_result"
    },
    {
     "data": {
      "image/png": "[encoded data removed]",
      "text/plain": [
       "<Figure size 840x360 with 1 Axes>"
      ]
     },
     "metadata": {
      "needs_background": "light"
     },
     "output_type": "display_data"
    }
   ],
   "source": [
    "#Hypothesis:Regardless of whether or not mice have been stimulated to learn,mice expression trisomy 21 will have higher median concentration levels of ITSN1_N\n",
    "\n",
    "sns.catplot(x='class',y='ITSN1_N',data=mice_data,kind='box',aspect=14/6)\n",
    "plt.title(\"Classes with respect to the ITSN1_N protein\")"
   ]
  },
  {
   "cell_type": "code",
   "execution_count": 34,
   "metadata": {},
   "outputs": [
    {
     "data": {
      "text/plain": [
       "Text(-5.950000000000003, 0.5, 'pCFOS_N concentration')"
      ]
     },
     "execution_count": 34,
     "metadata": {},
     "output_type": "execute_result"
    },
    {
     "data": {
      "image/png": "[encoded data removed]",
      "text/plain": [
       "<Figure size 360x360 with 1 Axes>"
      ]
     },
     "metadata": {
      "needs_background": "light"
     },
     "output_type": "display_data"
    }
   ],
   "source": [
    "viz2=mice_data[(mice_data['class']=='c-SC-m') | (mice_data['class']=='t-SC-m')]\n",
    "viz2\n",
    "\n",
    "#Hypothesis: trisomy 21 mice will have a higher median concentration level than the control group when no shock leraning stimulus has been given\n",
    "\n",
    "sns.catplot(x=\"class\", y=\"pCFOS_N\", kind=\"box\", data=viz2);\n",
    "plt.title(\"pCFOS_N protein levels\")\n",
    "plt.ylabel(\"pCFOS_N concentration\")"
   ]
  },
  {
   "cell_type": "code",
   "execution_count": 35,
   "metadata": {},
   "outputs": [
    {
     "data": {
      "text/plain": [
       "Text(0.29999999999999716, 0.5, 'NR1_N concentration')"
      ]
     },
     "execution_count": 35,
     "metadata": {},
     "output_type": "execute_result"
    },
    {
     "data": {
      "image/png": "[encoded data removed]",
      "text/plain": [
       "<Figure size 360x360 with 1 Axes>"
      ]
     },
     "metadata": {
      "needs_background": "light"
     },
     "output_type": "display_data"
    }
   ],
   "source": [
    "viz2=mice_data[(mice_data['class']=='t-CS-s') | (mice_data['class']=='t-CS-m')]\n",
    "viz2\n",
    "\n",
    "#Hypothesis: Trisomy mice that have been stimulated to learn whilst receiving the memantine injection have higher median lconcentration levels of NR1_N than that of ones given saline but of the same class(t-CS-s)\n",
    "\n",
    "sns.catplot(x=\"class\", y=\"NR1_N\", kind=\"box\", data=viz2);\n",
    "plt.title(\"NR1_N protein levels\")\n",
    "plt.ylabel(\"NR1_N concentration\")"
   ]
  },
  {
   "cell_type": "code",
   "execution_count": 36,
   "metadata": {},
   "outputs": [
    {
     "data": {
      "text/plain": [
       "Text(0.42499999999999716, 0.5, 'pCREB_N concentration')"
      ]
     },
     "execution_count": 36,
     "metadata": {},
     "output_type": "execute_result"
    },
    {
     "data": {
      "image/png": "[encoded data removed]",
      "text/plain": [
       "<Figure size 360x360 with 1 Axes>"
      ]
     },
     "metadata": {
      "needs_background": "light"
     },
     "output_type": "display_data"
    }
   ],
   "source": [
    "viz2=mice_data[(mice_data['class']=='t-CS-m') | (mice_data['class']=='c-CS-m')]\n",
    "viz2\n",
    "\n",
    "#Hypothesis: t-CS-m will display higher median concentration of the protein pCREB_N than that of c-CS-m mice\n",
    "sns.catplot(x=\"class\", y=\"pCREB_N\", kind=\"box\", data=viz2);\n",
    "plt.title(\"pCREB_N protein levels\")\n",
    "plt.ylabel(\"pCREB_N concentration\")"
   ]
  },
  {
   "cell_type": "code",
   "execution_count": 37,
   "metadata": {},
   "outputs": [
    {
     "data": {
      "text/plain": [
       "Text(0.5, 1.0, 'Classes with respect to the CaNA_N protein')"
      ]
     },
     "execution_count": 37,
     "metadata": {},
     "output_type": "execute_result"
    },
    {
     "data": {
      "image/png": "[encoded data removed]",
      "text/plain": [
       "<Figure size 840x360 with 1 Axes>"
      ]
     },
     "metadata": {
      "needs_background": "light"
     },
     "output_type": "display_data"
    }
   ],
   "source": [
    "#Hypothesis:Regardless of genotype, context shocked mice will display a greater median concentration of the protein CaNA_N compared to non context shocked mice.\n",
    "sns.catplot(x='class',y='CaNA_N',data=mice_data,kind='box',aspect=14/6)\n",
    "plt.title(\"Classes with respect to the CaNA_N protein\")"
   ]
  },
  {
   "cell_type": "code",
   "execution_count": 38,
   "metadata": {},
   "outputs": [
    {
     "data": {
      "text/plain": [
       "Text(0.5, 1.0, 'Classes with respect to the SYP_N protein')"
      ]
     },
     "execution_count": 38,
     "metadata": {},
     "output_type": "execute_result"
    },
    {
     "data": {
      "image/png": "[encoded data removed]",
      "text/plain": [
       "<Figure size 840x360 with 1 Axes>"
      ]
     },
     "metadata": {
      "needs_background": "light"
     },
     "output_type": "display_data"
    }
   ],
   "source": [
    "#Hypothesis:Regardless of whether or not mice have been stimulated to learn,mice expression trisomy 21 will have higher median concentration levels of SYP_N \n",
    "\n",
    "sns.catplot(x='class',y='SYP_N',data=mice_data,kind='box',aspect=14/6)\n",
    "plt.title(\"Classes with respect to the SYP_N protein\")"
   ]
  },
  {
   "cell_type": "code",
   "execution_count": 39,
   "metadata": {},
   "outputs": [
    {
     "data": {
      "text/plain": [
       "Text(0.5, 1.0, 'Classes with respect to the EGR1_N protein')"
      ]
     },
     "execution_count": 39,
     "metadata": {},
     "output_type": "execute_result"
    },
    {
     "data": {
      "image/png": "[encoded data removed]",
      "text/plain": [
       "<Figure size 840x360 with 1 Axes>"
      ]
     },
     "metadata": {
      "needs_background": "light"
     },
     "output_type": "display_data"
    }
   ],
   "source": [
    "#Hypothesis:Regardless of whether or not mice have been stimulated to learn,mice expression trisomy 21 will have higher median concentration levels of EGR1_N  \n",
    "\n",
    "sns.catplot(x='class',y='EGR1_N',data=mice_data,kind='box',aspect=14/6)\n",
    "plt.title(\"Classes with respect to the EGR1_N protein\")"
   ]
  },
  {
   "cell_type": "code",
   "execution_count": 40,
   "metadata": {},
   "outputs": [
    {
     "data": {
      "text/plain": [
       "Text(0.5, 1.0, 'Classes with respect to the NR1_N protein')"
      ]
     },
     "execution_count": 40,
     "metadata": {},
     "output_type": "execute_result"
    },
    {
     "data": {
      "image/png": "[encoded data removed]",
      "text/plain": [
       "<Figure size 840x360 with 1 Axes>"
      ]
     },
     "metadata": {
      "needs_background": "light"
     },
     "output_type": "display_data"
    }
   ],
   "source": [
    "#Hypothesis:Regardless of whether or not mice have been stimulated to learn,mice expression trisomy 21 will have higher median concentration levels of NR1_N   \n",
    "\n",
    "sns.catplot(x='class',y='NR1_N',data=mice_data,kind='box',aspect=14/6)\n",
    "plt.title(\"Classes with respect to the NR1_N protein\")"
   ]
  },
  {
   "cell_type": "markdown",
   "metadata": {},
   "source": [
    "# Doing Data Modelling"
   ]
  },
  {
   "cell_type": "code",
   "execution_count": 41,
   "metadata": {},
   "outputs": [],
   "source": [
    "#Removing unnecessary column \n",
    "mice_data=mice_data.drop(columns=['MouseID'])"
   ]
  },
  {
   "cell_type": "code",
   "execution_count": 42,
   "metadata": {},
   "outputs": [],
   "source": [
    "#Label Encoding the target variable which is the 'class' variable"
   ]
  },
  {
   "cell_type": "code",
   "execution_count": 43,
   "metadata": {},
   "outputs": [
    {
     "data": {
      "text/plain": [
       "2    150\n",
       "0    150\n",
       "6    135\n",
       "4    135\n",
       "3    135\n",
       "1    135\n",
       "7    132\n",
       "5    105\n",
       "Name: class, dtype: int64"
      ]
     },
     "execution_count": 43,
     "metadata": {},
     "output_type": "execute_result"
    }
   ],
   "source": [
    "from sklearn.preprocessing import LabelEncoder\n",
    "enc = LabelEncoder()\n",
    "\n",
    "mice_data['class']=enc.fit_transform(mice_data['class'])\n",
    "\n",
    "mice_data['class'].value_counts()"
   ]
  },
  {
   "cell_type": "code",
   "execution_count": 44,
   "metadata": {},
   "outputs": [
    {
     "data": {
      "text/html": [
       "<div>\n",
       "<style scoped>\n",
       "    .dataframe tbody tr th:only-of-type {\n",
       "        vertical-align: middle;\n",
       "    }\n",
       "\n",
       "    .dataframe tbody tr th {\n",
       "        vertical-align: top;\n",
       "    }\n",
       "\n",
       "    .dataframe thead th {\n",
       "        text-align: right;\n",
       "    }\n",
       "</style>\n",
       "<table border=\"1\" class=\"dataframe\">\n",
       "  <thead>\n",
       "    <tr style=\"text-align: right;\">\n",
       "      <th></th>\n",
       "      <th>DYRK1A_N</th>\n",
       "      <th>ITSN1_N</th>\n",
       "      <th>BDNF_N</th>\n",
       "      <th>NR1_N</th>\n",
       "      <th>NR2A_N</th>\n",
       "      <th>pAKT_N</th>\n",
       "      <th>pBRAF_N</th>\n",
       "      <th>pCAMKII_N</th>\n",
       "      <th>pCREB_N</th>\n",
       "      <th>pELK_N</th>\n",
       "      <th>...</th>\n",
       "      <th>pCFOS_N</th>\n",
       "      <th>SYP_N</th>\n",
       "      <th>H3AcK18_N</th>\n",
       "      <th>EGR1_N</th>\n",
       "      <th>H3MeK4_N</th>\n",
       "      <th>CaNA_N</th>\n",
       "      <th>Genotype</th>\n",
       "      <th>Treatment</th>\n",
       "      <th>Behavior</th>\n",
       "      <th>class</th>\n",
       "    </tr>\n",
       "  </thead>\n",
       "  <tbody>\n",
       "    <tr>\n",
       "      <th>0</th>\n",
       "      <td>0.503644</td>\n",
       "      <td>0.747193</td>\n",
       "      <td>0.430175</td>\n",
       "      <td>2.816329</td>\n",
       "      <td>5.990152</td>\n",
       "      <td>0.218830</td>\n",
       "      <td>0.177565</td>\n",
       "      <td>2.373744</td>\n",
       "      <td>0.232224</td>\n",
       "      <td>1.750936</td>\n",
       "      <td>...</td>\n",
       "      <td>0.108336</td>\n",
       "      <td>0.427099</td>\n",
       "      <td>0.114783</td>\n",
       "      <td>0.131790</td>\n",
       "      <td>0.128186</td>\n",
       "      <td>1.675652</td>\n",
       "      <td>Control</td>\n",
       "      <td>Memantine</td>\n",
       "      <td>C/S</td>\n",
       "      <td>0</td>\n",
       "    </tr>\n",
       "    <tr>\n",
       "      <th>1</th>\n",
       "      <td>0.514617</td>\n",
       "      <td>0.689064</td>\n",
       "      <td>0.411770</td>\n",
       "      <td>2.789514</td>\n",
       "      <td>5.685038</td>\n",
       "      <td>0.211636</td>\n",
       "      <td>0.172817</td>\n",
       "      <td>2.292150</td>\n",
       "      <td>0.226972</td>\n",
       "      <td>1.596377</td>\n",
       "      <td>...</td>\n",
       "      <td>0.104315</td>\n",
       "      <td>0.441581</td>\n",
       "      <td>0.111974</td>\n",
       "      <td>0.135103</td>\n",
       "      <td>0.131119</td>\n",
       "      <td>1.743610</td>\n",
       "      <td>Control</td>\n",
       "      <td>Memantine</td>\n",
       "      <td>C/S</td>\n",
       "      <td>0</td>\n",
       "    </tr>\n",
       "    <tr>\n",
       "      <th>2</th>\n",
       "      <td>0.509183</td>\n",
       "      <td>0.730247</td>\n",
       "      <td>0.418309</td>\n",
       "      <td>2.687201</td>\n",
       "      <td>5.622059</td>\n",
       "      <td>0.209011</td>\n",
       "      <td>0.175722</td>\n",
       "      <td>2.283337</td>\n",
       "      <td>0.230247</td>\n",
       "      <td>1.561316</td>\n",
       "      <td>...</td>\n",
       "      <td>0.106219</td>\n",
       "      <td>0.435777</td>\n",
       "      <td>0.111883</td>\n",
       "      <td>0.133362</td>\n",
       "      <td>0.127431</td>\n",
       "      <td>1.926427</td>\n",
       "      <td>Control</td>\n",
       "      <td>Memantine</td>\n",
       "      <td>C/S</td>\n",
       "      <td>0</td>\n",
       "    </tr>\n",
       "    <tr>\n",
       "      <th>3</th>\n",
       "      <td>0.442107</td>\n",
       "      <td>0.617076</td>\n",
       "      <td>0.358626</td>\n",
       "      <td>2.466947</td>\n",
       "      <td>4.979503</td>\n",
       "      <td>0.222886</td>\n",
       "      <td>0.176463</td>\n",
       "      <td>2.152301</td>\n",
       "      <td>0.207004</td>\n",
       "      <td>1.595086</td>\n",
       "      <td>...</td>\n",
       "      <td>0.111262</td>\n",
       "      <td>0.391691</td>\n",
       "      <td>0.130405</td>\n",
       "      <td>0.147444</td>\n",
       "      <td>0.146901</td>\n",
       "      <td>1.700563</td>\n",
       "      <td>Control</td>\n",
       "      <td>Memantine</td>\n",
       "      <td>C/S</td>\n",
       "      <td>0</td>\n",
       "    </tr>\n",
       "    <tr>\n",
       "      <th>4</th>\n",
       "      <td>0.434940</td>\n",
       "      <td>0.617430</td>\n",
       "      <td>0.358802</td>\n",
       "      <td>2.365785</td>\n",
       "      <td>4.718679</td>\n",
       "      <td>0.213106</td>\n",
       "      <td>0.173627</td>\n",
       "      <td>2.134014</td>\n",
       "      <td>0.192158</td>\n",
       "      <td>1.504230</td>\n",
       "      <td>...</td>\n",
       "      <td>0.110694</td>\n",
       "      <td>0.434154</td>\n",
       "      <td>0.118481</td>\n",
       "      <td>0.140314</td>\n",
       "      <td>0.148380</td>\n",
       "      <td>1.839730</td>\n",
       "      <td>Control</td>\n",
       "      <td>Memantine</td>\n",
       "      <td>C/S</td>\n",
       "      <td>0</td>\n",
       "    </tr>\n",
       "  </tbody>\n",
       "</table>\n",
       "<p>5 rows × 81 columns</p>\n",
       "</div>"
      ],
      "text/plain": [
       "   DYRK1A_N   ITSN1_N    BDNF_N     NR1_N    NR2A_N    pAKT_N   pBRAF_N  \\\n",
       "0  0.503644  0.747193  0.430175  2.816329  5.990152  0.218830  0.177565   \n",
       "1  0.514617  0.689064  0.411770  2.789514  5.685038  0.211636  0.172817   \n",
       "2  0.509183  0.730247  0.418309  2.687201  5.622059  0.209011  0.175722   \n",
       "3  0.442107  0.617076  0.358626  2.466947  4.979503  0.222886  0.176463   \n",
       "4  0.434940  0.617430  0.358802  2.365785  4.718679  0.213106  0.173627   \n",
       "\n",
       "   pCAMKII_N   pCREB_N    pELK_N  ...   pCFOS_N     SYP_N  H3AcK18_N  \\\n",
       "0   2.373744  0.232224  1.750936  ...  0.108336  0.427099   0.114783   \n",
       "1   2.292150  0.226972  1.596377  ...  0.104315  0.441581   0.111974   \n",
       "2   2.283337  0.230247  1.561316  ...  0.106219  0.435777   0.111883   \n",
       "3   2.152301  0.207004  1.595086  ...  0.111262  0.391691   0.130405   \n",
       "4   2.134014  0.192158  1.504230  ...  0.110694  0.434154   0.118481   \n",
       "\n",
       "     EGR1_N  H3MeK4_N    CaNA_N  Genotype  Treatment  Behavior  class  \n",
       "0  0.131790  0.128186  1.675652   Control  Memantine       C/S      0  \n",
       "1  0.135103  0.131119  1.743610   Control  Memantine       C/S      0  \n",
       "2  0.133362  0.127431  1.926427   Control  Memantine       C/S      0  \n",
       "3  0.147444  0.146901  1.700563   Control  Memantine       C/S      0  \n",
       "4  0.140314  0.148380  1.839730   Control  Memantine       C/S      0  \n",
       "\n",
       "[5 rows x 81 columns]"
      ]
     },
     "execution_count": 44,
     "metadata": {},
     "output_type": "execute_result"
    }
   ],
   "source": [
    "mice_data.head()"
   ]
  },
  {
   "cell_type": "code",
   "execution_count": 45,
   "metadata": {},
   "outputs": [],
   "source": [
    "X=mice_data.drop(['class','Genotype','Treatment','Behavior'],axis=1)\n",
    "y=mice_data['class']"
   ]
  },
  {
   "cell_type": "code",
   "execution_count": 46,
   "metadata": {},
   "outputs": [
    {
     "name": "stdout",
     "output_type": "stream",
     "text": [
      "(807, 77)\n",
      "(807,)\n",
      "(270, 77)\n",
      "(270,)\n"
     ]
    }
   ],
   "source": [
    "from sklearn.model_selection import train_test_split\n",
    "\n",
    "X_train,X_test,y_train,y_test=train_test_split(X,y,test_size=0.25,random_state=999,stratify=y)\n",
    "\n",
    "print(X_train.shape)\n",
    "print(y_train.shape)\n",
    "print(X_test.shape)\n",
    "print(y_test.shape)"
   ]
  },
  {
   "cell_type": "code",
   "execution_count": 47,
   "metadata": {},
   "outputs": [],
   "source": [
    "from sklearn.neighbors import KNeighborsClassifier\n",
    "\n",
    "k_range=np.arange(1,20,1)"
   ]
  },
  {
   "cell_type": "code",
   "execution_count": 48,
   "metadata": {},
   "outputs": [],
   "source": [
    "def knn_euclidean(n):\n",
    "    knn=KNeighborsClassifier(n, p=2)\n",
    "    knn.fit(X_train,y_train)\n",
    "    score=knn.score(X_test,y_test)\n",
    "    return score\n",
    "\n",
    "def knn_manhattan(n):\n",
    "    knn=KNeighborsClassifier(n, p=1)\n",
    "    knn.fit(X_train,y_train)\n",
    "    score=knn.score(X_test,y_test)\n",
    "    return score\n",
    "    "
   ]
  },
  {
   "cell_type": "code",
   "execution_count": 49,
   "metadata": {},
   "outputs": [],
   "source": [
    "knn_euclidean_score=list()\n",
    "\n",
    "for k in k_range:\n",
    "    sc=knn_euclidean(k)\n",
    "    knn_euclidean_score.append(sc)\n"
   ]
  },
  {
   "cell_type": "code",
   "execution_count": 50,
   "metadata": {},
   "outputs": [],
   "source": [
    "knn_manhattan_score=list()\n",
    "for k in k_range:\n",
    "    sc=knn_manhattan(k)\n",
    "    knn_manhattan_score.append(sc)\n"
   ]
  },
  {
   "cell_type": "code",
   "execution_count": 51,
   "metadata": {},
   "outputs": [
    {
     "data": {
      "text/html": [
       "<div>\n",
       "<style scoped>\n",
       "    .dataframe tbody tr th:only-of-type {\n",
       "        vertical-align: middle;\n",
       "    }\n",
       "\n",
       "    .dataframe tbody tr th {\n",
       "        vertical-align: top;\n",
       "    }\n",
       "\n",
       "    .dataframe thead th {\n",
       "        text-align: right;\n",
       "    }\n",
       "</style>\n",
       "<table border=\"1\" class=\"dataframe\">\n",
       "  <thead>\n",
       "    <tr style=\"text-align: right;\">\n",
       "      <th></th>\n",
       "      <th>K_Value</th>\n",
       "      <th>Euclidean_Score(p=2)</th>\n",
       "      <th>Manhattan_Score(p=1)</th>\n",
       "    </tr>\n",
       "  </thead>\n",
       "  <tbody>\n",
       "    <tr>\n",
       "      <th>0</th>\n",
       "      <td>1</td>\n",
       "      <td>0.996296</td>\n",
       "      <td>1.000000</td>\n",
       "    </tr>\n",
       "    <tr>\n",
       "      <th>1</th>\n",
       "      <td>2</td>\n",
       "      <td>0.970370</td>\n",
       "      <td>0.985185</td>\n",
       "    </tr>\n",
       "    <tr>\n",
       "      <th>2</th>\n",
       "      <td>3</td>\n",
       "      <td>0.962963</td>\n",
       "      <td>0.981481</td>\n",
       "    </tr>\n",
       "    <tr>\n",
       "      <th>3</th>\n",
       "      <td>4</td>\n",
       "      <td>0.933333</td>\n",
       "      <td>0.951852</td>\n",
       "    </tr>\n",
       "    <tr>\n",
       "      <th>4</th>\n",
       "      <td>5</td>\n",
       "      <td>0.922222</td>\n",
       "      <td>0.951852</td>\n",
       "    </tr>\n",
       "    <tr>\n",
       "      <th>5</th>\n",
       "      <td>6</td>\n",
       "      <td>0.896296</td>\n",
       "      <td>0.933333</td>\n",
       "    </tr>\n",
       "    <tr>\n",
       "      <th>6</th>\n",
       "      <td>7</td>\n",
       "      <td>0.903704</td>\n",
       "      <td>0.929630</td>\n",
       "    </tr>\n",
       "    <tr>\n",
       "      <th>7</th>\n",
       "      <td>8</td>\n",
       "      <td>0.885185</td>\n",
       "      <td>0.907407</td>\n",
       "    </tr>\n",
       "    <tr>\n",
       "      <th>8</th>\n",
       "      <td>9</td>\n",
       "      <td>0.877778</td>\n",
       "      <td>0.907407</td>\n",
       "    </tr>\n",
       "    <tr>\n",
       "      <th>9</th>\n",
       "      <td>10</td>\n",
       "      <td>0.855556</td>\n",
       "      <td>0.900000</td>\n",
       "    </tr>\n",
       "    <tr>\n",
       "      <th>10</th>\n",
       "      <td>11</td>\n",
       "      <td>0.833333</td>\n",
       "      <td>0.900000</td>\n",
       "    </tr>\n",
       "    <tr>\n",
       "      <th>11</th>\n",
       "      <td>12</td>\n",
       "      <td>0.814815</td>\n",
       "      <td>0.877778</td>\n",
       "    </tr>\n",
       "    <tr>\n",
       "      <th>12</th>\n",
       "      <td>13</td>\n",
       "      <td>0.818519</td>\n",
       "      <td>0.866667</td>\n",
       "    </tr>\n",
       "    <tr>\n",
       "      <th>13</th>\n",
       "      <td>14</td>\n",
       "      <td>0.803704</td>\n",
       "      <td>0.881481</td>\n",
       "    </tr>\n",
       "    <tr>\n",
       "      <th>14</th>\n",
       "      <td>15</td>\n",
       "      <td>0.788889</td>\n",
       "      <td>0.859259</td>\n",
       "    </tr>\n",
       "    <tr>\n",
       "      <th>15</th>\n",
       "      <td>16</td>\n",
       "      <td>0.777778</td>\n",
       "      <td>0.848148</td>\n",
       "    </tr>\n",
       "    <tr>\n",
       "      <th>16</th>\n",
       "      <td>17</td>\n",
       "      <td>0.774074</td>\n",
       "      <td>0.844444</td>\n",
       "    </tr>\n",
       "    <tr>\n",
       "      <th>17</th>\n",
       "      <td>18</td>\n",
       "      <td>0.755556</td>\n",
       "      <td>0.833333</td>\n",
       "    </tr>\n",
       "    <tr>\n",
       "      <th>18</th>\n",
       "      <td>19</td>\n",
       "      <td>0.740741</td>\n",
       "      <td>0.825926</td>\n",
       "    </tr>\n",
       "  </tbody>\n",
       "</table>\n",
       "</div>"
      ],
      "text/plain": [
       "    K_Value  Euclidean_Score(p=2)  Manhattan_Score(p=1)\n",
       "0         1              0.996296              1.000000\n",
       "1         2              0.970370              0.985185\n",
       "2         3              0.962963              0.981481\n",
       "3         4              0.933333              0.951852\n",
       "4         5              0.922222              0.951852\n",
       "5         6              0.896296              0.933333\n",
       "6         7              0.903704              0.929630\n",
       "7         8              0.885185              0.907407\n",
       "8         9              0.877778              0.907407\n",
       "9        10              0.855556              0.900000\n",
       "10       11              0.833333              0.900000\n",
       "11       12              0.814815              0.877778\n",
       "12       13              0.818519              0.866667\n",
       "13       14              0.803704              0.881481\n",
       "14       15              0.788889              0.859259\n",
       "15       16              0.777778              0.848148\n",
       "16       17              0.774074              0.844444\n",
       "17       18              0.755556              0.833333\n",
       "18       19              0.740741              0.825926"
      ]
     },
     "execution_count": 51,
     "metadata": {},
     "output_type": "execute_result"
    }
   ],
   "source": [
    "data={'K_Value':k_range,'Euclidean_Score(p=2)':knn_euclidean_score,'Manhattan_Score(p=1)':knn_manhattan_score}\n",
    "knn_Al=pd.DataFrame(data)\n",
    "knn_Al"
   ]
  },
  {
   "cell_type": "code",
   "execution_count": 52,
   "metadata": {},
   "outputs": [
    {
     "data": {
      "text/plain": [
       "0.9962962962962963"
      ]
     },
     "execution_count": 52,
     "metadata": {},
     "output_type": "execute_result"
    }
   ],
   "source": [
    "knn_Al['Euclidean_Score(p=2)'].max()"
   ]
  },
  {
   "cell_type": "code",
   "execution_count": 53,
   "metadata": {},
   "outputs": [
    {
     "data": {
      "text/plain": [
       "1.0"
      ]
     },
     "execution_count": 53,
     "metadata": {},
     "output_type": "execute_result"
    }
   ],
   "source": [
    "knn_Al['Manhattan_Score(p=1)'].max()"
   ]
  },
  {
   "cell_type": "markdown",
   "metadata": {},
   "source": [
    "### Therefore it looks like the best parameters for the KNN Algorithm is with (k=1,p=1)"
   ]
  },
  {
   "cell_type": "markdown",
   "metadata": {},
   "source": [
    "\n",
    "\n",
    "\n",
    "# Decision Tree Algorithm"
   ]
  },
  {
   "cell_type": "code",
   "execution_count": 54,
   "metadata": {},
   "outputs": [
    {
     "data": {
      "text/plain": [
       "0.8740740740740741"
      ]
     },
     "execution_count": 54,
     "metadata": {},
     "output_type": "execute_result"
    }
   ],
   "source": [
    "from sklearn.tree import DecisionTreeClassifier\n",
    "\n",
    "dt=DecisionTreeClassifier()\n",
    "dt.fit(X_train,y_train)\n",
    "dt.score(X_test,y_test)"
   ]
  },
  {
   "cell_type": "code",
   "execution_count": 55,
   "metadata": {},
   "outputs": [],
   "source": [
    "from sklearn.tree import DecisionTreeClassifier"
   ]
  },
  {
   "cell_type": "code",
   "execution_count": 56,
   "metadata": {},
   "outputs": [],
   "source": [
    "depth=np.arange(1,20,1)"
   ]
  },
  {
   "cell_type": "code",
   "execution_count": 57,
   "metadata": {},
   "outputs": [],
   "source": [
    "def dt_gini(n):\n",
    "    dt=DecisionTreeClassifier(max_depth=n, criterion='gini')\n",
    "    dt.fit(X_train,y_train)\n",
    "    score=dt.score(X_test,y_test)\n",
    "    return score\n",
    "\n",
    "def dt_entropy(n):\n",
    "    dt=DecisionTreeClassifier(max_depth=n, criterion='entropy')\n",
    "    dt.fit(X_train,y_train)\n",
    "    score=dt.score(X_test,y_test)\n",
    "    return score\n",
    "    "
   ]
  },
  {
   "cell_type": "code",
   "execution_count": 58,
   "metadata": {},
   "outputs": [],
   "source": [
    "dt_entropy_score=list()\n",
    "\n",
    "for k in depth:\n",
    "    sc=dt_entropy(k)\n",
    "    dt_entropy_score.append(sc)\n"
   ]
  },
  {
   "cell_type": "code",
   "execution_count": 59,
   "metadata": {},
   "outputs": [],
   "source": [
    "dt_gini_score=list()\n",
    "\n",
    "for k in depth:\n",
    "    sc=dt_gini(k)\n",
    "    dt_gini_score.append(sc)"
   ]
  },
  {
   "cell_type": "code",
   "execution_count": 60,
   "metadata": {},
   "outputs": [
    {
     "data": {
      "text/html": [
       "<div>\n",
       "<style scoped>\n",
       "    .dataframe tbody tr th:only-of-type {\n",
       "        vertical-align: middle;\n",
       "    }\n",
       "\n",
       "    .dataframe tbody tr th {\n",
       "        vertical-align: top;\n",
       "    }\n",
       "\n",
       "    .dataframe thead th {\n",
       "        text-align: right;\n",
       "    }\n",
       "</style>\n",
       "<table border=\"1\" class=\"dataframe\">\n",
       "  <thead>\n",
       "    <tr style=\"text-align: right;\">\n",
       "      <th></th>\n",
       "      <th>Max Depth</th>\n",
       "      <th>Entropy Score</th>\n",
       "      <th>Gini Score</th>\n",
       "    </tr>\n",
       "  </thead>\n",
       "  <tbody>\n",
       "    <tr>\n",
       "      <th>0</th>\n",
       "      <td>1</td>\n",
       "      <td>0.274074</td>\n",
       "      <td>0.274074</td>\n",
       "    </tr>\n",
       "    <tr>\n",
       "      <th>1</th>\n",
       "      <td>2</td>\n",
       "      <td>0.425926</td>\n",
       "      <td>0.433333</td>\n",
       "    </tr>\n",
       "    <tr>\n",
       "      <th>2</th>\n",
       "      <td>3</td>\n",
       "      <td>0.522222</td>\n",
       "      <td>0.529630</td>\n",
       "    </tr>\n",
       "    <tr>\n",
       "      <th>3</th>\n",
       "      <td>4</td>\n",
       "      <td>0.644444</td>\n",
       "      <td>0.651852</td>\n",
       "    </tr>\n",
       "    <tr>\n",
       "      <th>4</th>\n",
       "      <td>5</td>\n",
       "      <td>0.751852</td>\n",
       "      <td>0.770370</td>\n",
       "    </tr>\n",
       "    <tr>\n",
       "      <th>5</th>\n",
       "      <td>6</td>\n",
       "      <td>0.837037</td>\n",
       "      <td>0.833333</td>\n",
       "    </tr>\n",
       "    <tr>\n",
       "      <th>6</th>\n",
       "      <td>7</td>\n",
       "      <td>0.844444</td>\n",
       "      <td>0.840741</td>\n",
       "    </tr>\n",
       "    <tr>\n",
       "      <th>7</th>\n",
       "      <td>8</td>\n",
       "      <td>0.844444</td>\n",
       "      <td>0.825926</td>\n",
       "    </tr>\n",
       "    <tr>\n",
       "      <th>8</th>\n",
       "      <td>9</td>\n",
       "      <td>0.866667</td>\n",
       "      <td>0.851852</td>\n",
       "    </tr>\n",
       "    <tr>\n",
       "      <th>9</th>\n",
       "      <td>10</td>\n",
       "      <td>0.844444</td>\n",
       "      <td>0.848148</td>\n",
       "    </tr>\n",
       "    <tr>\n",
       "      <th>10</th>\n",
       "      <td>11</td>\n",
       "      <td>0.870370</td>\n",
       "      <td>0.862963</td>\n",
       "    </tr>\n",
       "    <tr>\n",
       "      <th>11</th>\n",
       "      <td>12</td>\n",
       "      <td>0.859259</td>\n",
       "      <td>0.874074</td>\n",
       "    </tr>\n",
       "    <tr>\n",
       "      <th>12</th>\n",
       "      <td>13</td>\n",
       "      <td>0.859259</td>\n",
       "      <td>0.855556</td>\n",
       "    </tr>\n",
       "    <tr>\n",
       "      <th>13</th>\n",
       "      <td>14</td>\n",
       "      <td>0.851852</td>\n",
       "      <td>0.862963</td>\n",
       "    </tr>\n",
       "    <tr>\n",
       "      <th>14</th>\n",
       "      <td>15</td>\n",
       "      <td>0.840741</td>\n",
       "      <td>0.837037</td>\n",
       "    </tr>\n",
       "    <tr>\n",
       "      <th>15</th>\n",
       "      <td>16</td>\n",
       "      <td>0.829630</td>\n",
       "      <td>0.855556</td>\n",
       "    </tr>\n",
       "    <tr>\n",
       "      <th>16</th>\n",
       "      <td>17</td>\n",
       "      <td>0.855556</td>\n",
       "      <td>0.859259</td>\n",
       "    </tr>\n",
       "    <tr>\n",
       "      <th>17</th>\n",
       "      <td>18</td>\n",
       "      <td>0.877778</td>\n",
       "      <td>0.851852</td>\n",
       "    </tr>\n",
       "    <tr>\n",
       "      <th>18</th>\n",
       "      <td>19</td>\n",
       "      <td>0.837037</td>\n",
       "      <td>0.848148</td>\n",
       "    </tr>\n",
       "  </tbody>\n",
       "</table>\n",
       "</div>"
      ],
      "text/plain": [
       "    Max Depth  Entropy Score  Gini Score\n",
       "0           1       0.274074    0.274074\n",
       "1           2       0.425926    0.433333\n",
       "2           3       0.522222    0.529630\n",
       "3           4       0.644444    0.651852\n",
       "4           5       0.751852    0.770370\n",
       "5           6       0.837037    0.833333\n",
       "6           7       0.844444    0.840741\n",
       "7           8       0.844444    0.825926\n",
       "8           9       0.866667    0.851852\n",
       "9          10       0.844444    0.848148\n",
       "10         11       0.870370    0.862963\n",
       "11         12       0.859259    0.874074\n",
       "12         13       0.859259    0.855556\n",
       "13         14       0.851852    0.862963\n",
       "14         15       0.840741    0.837037\n",
       "15         16       0.829630    0.855556\n",
       "16         17       0.855556    0.859259\n",
       "17         18       0.877778    0.851852\n",
       "18         19       0.837037    0.848148"
      ]
     },
     "execution_count": 60,
     "metadata": {},
     "output_type": "execute_result"
    }
   ],
   "source": [
    "data={'Max Depth':depth,'Entropy Score':dt_entropy_score,'Gini Score':dt_gini_score}\n",
    "dt_dataframe=pd.DataFrame(data)\n",
    "dt_dataframe"
   ]
  },
  {
   "cell_type": "code",
   "execution_count": 61,
   "metadata": {},
   "outputs": [
    {
     "data": {
      "text/plain": [
       "0.8777777777777778"
      ]
     },
     "execution_count": 61,
     "metadata": {},
     "output_type": "execute_result"
    }
   ],
   "source": [
    "dt_dataframe['Entropy Score'].max()"
   ]
  },
  {
   "cell_type": "code",
   "execution_count": 62,
   "metadata": {},
   "outputs": [
    {
     "data": {
      "text/plain": [
       "0.8740740740740741"
      ]
     },
     "execution_count": 62,
     "metadata": {},
     "output_type": "execute_result"
    }
   ],
   "source": [
    "dt_dataframe['Gini Score'].max()"
   ]
  },
  {
   "cell_type": "markdown",
   "metadata": {},
   "source": [
    "### Therefore it looks like the best parameters for the Decision Tree algorithm is with max depth 12 and criterion being any of them"
   ]
  }
 ],
 "metadata": {
  "kernelspec": {
   "display_name": "Python 3",
   "language": "python",
   "name": "python3"
  },
  "language_info": {
   "codemirror_mode": {
    "name": "ipython",
    "version": 3
   },
   "file_extension": ".py",
   "mimetype": "text/x-python",
   "name": "python",
   "nbconvert_exporter": "python",
   "pygments_lexer": "ipython3",
   "version": "3.7.3"
  }
 },
 "nbformat": 4,
 "nbformat_minor": 2
}
